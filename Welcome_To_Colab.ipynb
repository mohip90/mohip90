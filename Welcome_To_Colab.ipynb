{
  "cells": [
    {
      "cell_type": "markdown",
      "metadata": {
        "id": "view-in-github",
        "colab_type": "text"
      },
      "source": [
        "<a href=\"https://colab.research.google.com/github/mohip90/mohip90/blob/main/Welcome_To_Colab.ipynb\" target=\"_parent\"><img src=\"https://colab.research.google.com/assets/colab-badge.svg\" alt=\"Open In Colab\"/></a>"
      ]
    },
    {
      "cell_type": "code",
      "execution_count": 112,
      "metadata": {
        "colab": {
          "height": 333,
          "base_uri": "https://localhost:8080/"
        },
        "id": "C4HZx7Gndbrh",
        "outputId": "062867ee-e6e0-4cee-f972-de516c205e39"
      },
      "outputs": [
        {
          "output_type": "display_data",
          "data": {
            "text/plain": [
              "<IPython.core.display.Markdown object>"
            ],
            "text/markdown": "![Sample Visualization](data:image/png;base64,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)"
          },
          "metadata": {}
        }
      ],
      "source": [
        "import numpy as np\n",
        "import IPython.display as display\n",
        "from matplotlib import pyplot as plt\n",
        "import io\n",
        "import base64\n",
        "\n",
        "ys = 200 + np.random.randn(100)\n",
        "x = [x for x in range(len(ys))]\n",
        "\n",
        "fig = plt.figure(figsize=(4, 3), facecolor='w')\n",
        "plt.plot(x, ys, '-')\n",
        "plt.fill_between(x, ys, 195, where=(ys > 195), facecolor='g', alpha=0.6)\n",
        "plt.title(\"Sample Visualization\", fontsize=10)\n",
        "\n",
        "data = io.BytesIO()\n",
        "plt.savefig(data)\n",
        "image = F\"data:image/png;base64,{base64.b64encode(data.getvalue()).decode()}\"\n",
        "alt = \"Sample Visualization\"\n",
        "display.display(display.Markdown(F\"\"\"![{alt}]({image})\"\"\"))\n",
        "plt.close(fig)"
      ]
    },
    {
      "cell_type": "markdown",
      "metadata": {
        "id": "VYV91hbKwP2J"
      },
      "source": [
        "Colab notebooks execute code on Google's cloud servers, meaning you can leverage the power of Google hardware, including [GPUs and TPUs](#using-accelerated-hardware), regardless of the power of your machine. All you need is a browser.\n",
        "\n",
        "For example, if you find yourself waiting for **pandas** code to finish running and want to go faster, you can switch to a GPU Runtime and use libraries like [RAPIDS cuDF](https://rapids.ai/cudf-pandas) that provide zero-code-change acceleration."
      ]
    },
    {
      "cell_type": "markdown",
      "metadata": {
        "id": "vwnNlNIEwoZ8"
      },
      "source": [
        "To learn more about accelerating pandas on Colab, see the [10 minute guide](https://colab.research.google.com/github/rapidsai-community/showcase/blob/main/getting_started_tutorials/cudf_pandas_colab_demo.ipynb) or\n",
        " [US stock market data analysis demo](https://colab.research.google.com/github/rapidsai-community/showcase/blob/main/getting_started_tutorials/cudf_pandas_stocks_demo.ipynb)."
      ]
    },
    {
      "cell_type": "markdown",
      "metadata": {
        "id": "OwuxHmxllTwN"
      },
      "source": [
        "<div class=\"markdown-google-sans\">\n",
        "\n",
        "## Machine learning\n",
        "</div>\n",
        "\n",
        "With Colab you can import an image dataset, train an image classifier on it, and evaluate the model, all in just [a few lines of code](https://colab.research.google.com/github/tensorflow/docs/blob/master/site/en/tutorials/quickstart/beginner.ipynb)."
      ]
    },
    {
      "cell_type": "markdown",
      "metadata": {
        "id": "ufxBm1yRnruN"
      },
      "source": [
        "Colab is used extensively in the machine learning community with applications including:\n",
        "- Getting started with TensorFlow\n",
        "- Developing and training neural networks\n",
        "- Experimenting with TPUs\n",
        "- Disseminating AI research\n",
        "- Creating tutorials\n",
        "\n",
        "To see sample Colab notebooks that demonstrate machine learning applications, see the [machine learning examples](#machine-learning-examples) below."
      ]
    },
    {
      "cell_type": "markdown",
      "metadata": {
        "id": "-Rh3-Vt9Nev9"
      },
      "source": [
        "<div class=\"markdown-google-sans\">\n",
        "\n",
        "## More Resources\n",
        "\n",
        "### Working with Notebooks in Colab\n",
        "\n",
        "</div>\n",
        "\n",
        "- [Overview of Colab](/notebooks/basic_features_overview.ipynb)\n",
        "- [Guide to Markdown](/notebooks/markdown_guide.ipynb)\n",
        "- [Importing libraries and installing dependencies](/notebooks/snippets/importing_libraries.ipynb)\n",
        "- [Saving and loading notebooks in GitHub](https://colab.research.google.com/github/googlecolab/colabtools/blob/main/notebooks/colab-github-demo.ipynb)\n",
        "- [Interactive forms](/notebooks/forms.ipynb)\n",
        "- [Interactive widgets](/notebooks/widgets.ipynb)\n",
        "\n",
        "<div class=\"markdown-google-sans\">\n",
        "\n",
        "<a name=\"working-with-data\"></a>\n",
        "### Working with Data\n",
        "</div>\n",
        "\n",
        "- [Loading data: Drive, Sheets, and Google Cloud Storage](/notebooks/io.ipynb)\n",
        "- [Charts: visualizing data](/notebooks/charts.ipynb)\n",
        "- [Getting started with BigQuery](/notebooks/bigquery.ipynb)\n",
        "\n",
        "<div class=\"markdown-google-sans\">\n",
        "\n",
        "### Machine Learning\n",
        "\n",
        "<div>\n",
        "\n",
        "These are a few of the notebooks related to Machine Learning, including Google's online Machine Learning course. See the [full course website](https://developers.google.com/machine-learning/crash-course/) for more.\n",
        "- [Intro to Pandas DataFrame](https://colab.research.google.com/github/google/eng-edu/blob/main/ml/cc/exercises/pandas_dataframe_ultraquick_tutorial.ipynb)\n",
        "- [Intro to RAPIDS cuDF to accelerate pandas](https://nvda.ws/rapids-cudf)\n",
        "- [Getting Started with cuML's accelerator mode](https://colab.research.google.com/github/rapidsai-community/showcase/blob/main/getting_started_tutorials/cuml_sklearn_colab_demo.ipynb)\n",
        "- [Linear regression with tf.keras using synthetic data](https://colab.research.google.com/github/google/eng-edu/blob/main/ml/cc/exercises/linear_regression_with_synthetic_data.ipynb)\n",
        "\n",
        "<div class=\"markdown-google-sans\">\n",
        "\n",
        "<a name=\"using-accelerated-hardware\"></a>\n",
        "### Using Accelerated Hardware\n",
        "</div>\n",
        "\n",
        "- [TensorFlow with GPUs](/notebooks/gpu.ipynb)\n",
        "- [TPUs in Colab](/notebooks/tpu.ipynb)"
      ]
    },
    {
      "cell_type": "code",
      "source": [
        "import numpy as np\n",
        "import pandas as pd\n",
        "\n"
      ],
      "metadata": {
        "id": "F--0nBE2W3_g"
      },
      "execution_count": 113,
      "outputs": []
    },
    {
      "cell_type": "code",
      "source": [
        "import os\n",
        "for dirname, _, filenames in os.walk('/kaggle/input'):\n",
        "    for filename in filenames:\n",
        "        print(os.path.join(dirname, filename))"
      ],
      "metadata": {
        "id": "pHqYqiHLbYm4"
      },
      "execution_count": 114,
      "outputs": []
    },
    {
      "cell_type": "code",
      "source": [
        "import numpy as np\n",
        "import pandas as pd\n",
        "from pandas import Series,DataFrame\n",
        "import seaborn as sns\n",
        "import matplotlib.pyplot as plt\n",
        "import warnings\n",
        "warnings.filterwarnings('ignore')"
      ],
      "metadata": {
        "id": "cbMgYEcgbuDr"
      },
      "execution_count": 115,
      "outputs": []
    },
    {
      "cell_type": "code",
      "source": [
        "df = pd.read_csv(\"https://storage.googleapis.com/kaggle-forum-message-attachments/2803939/20680/global_AI_ML_Data_salaries.csv\")"
      ],
      "metadata": {
        "id": "YQKuKgAQb3di"
      },
      "execution_count": 116,
      "outputs": []
    },
    {
      "cell_type": "code",
      "source": [
        "df.head()"
      ],
      "metadata": {
        "colab": {
          "base_uri": "https://localhost:8080/",
          "height": 313
        },
        "id": "Fde_Sru9cg-5",
        "outputId": "6373dda0-64c0-4c43-8d5d-d7cbf7846c42"
      },
      "execution_count": 117,
      "outputs": [
        {
          "output_type": "execute_result",
          "data": {
            "text/plain": [
              "   work_year experience_level employment_type           job_title  salary  \\\n",
              "0       2024               MI              FT  Analytics Engineer   77500   \n",
              "1       2024               SE              FT        AI Developer  252000   \n",
              "2       2024               SE              FT        AI Developer  168000   \n",
              "3       2024               MI              FT      Data Scientist  199500   \n",
              "4       2024               MI              FT      Data Scientist   86700   \n",
              "\n",
              "  salary_currency  salary_in_usd employee_residence  remote_ratio  \\\n",
              "0             CAD          59615                 CA           100   \n",
              "1             USD         252000                 US             0   \n",
              "2             USD         168000                 US             0   \n",
              "3             USD         199500                 US           100   \n",
              "4             USD          86700                 US           100   \n",
              "\n",
              "  company_location company_size  \n",
              "0               CA            S  \n",
              "1               US            M  \n",
              "2               US            M  \n",
              "3               US            M  \n",
              "4               US            M  "
            ],
            "text/html": [
              "\n",
              "  <div id=\"df-32eb7842-49e0-44d8-ab94-57613a17dad0\" class=\"colab-df-container\">\n",
              "    <div>\n",
              "<style scoped>\n",
              "    .dataframe tbody tr th:only-of-type {\n",
              "        vertical-align: middle;\n",
              "    }\n",
              "\n",
              "    .dataframe tbody tr th {\n",
              "        vertical-align: top;\n",
              "    }\n",
              "\n",
              "    .dataframe thead th {\n",
              "        text-align: right;\n",
              "    }\n",
              "</style>\n",
              "<table border=\"1\" class=\"dataframe\">\n",
              "  <thead>\n",
              "    <tr style=\"text-align: right;\">\n",
              "      <th></th>\n",
              "      <th>work_year</th>\n",
              "      <th>experience_level</th>\n",
              "      <th>employment_type</th>\n",
              "      <th>job_title</th>\n",
              "      <th>salary</th>\n",
              "      <th>salary_currency</th>\n",
              "      <th>salary_in_usd</th>\n",
              "      <th>employee_residence</th>\n",
              "      <th>remote_ratio</th>\n",
              "      <th>company_location</th>\n",
              "      <th>company_size</th>\n",
              "    </tr>\n",
              "  </thead>\n",
              "  <tbody>\n",
              "    <tr>\n",
              "      <th>0</th>\n",
              "      <td>2024</td>\n",
              "      <td>MI</td>\n",
              "      <td>FT</td>\n",
              "      <td>Analytics Engineer</td>\n",
              "      <td>77500</td>\n",
              "      <td>CAD</td>\n",
              "      <td>59615</td>\n",
              "      <td>CA</td>\n",
              "      <td>100</td>\n",
              "      <td>CA</td>\n",
              "      <td>S</td>\n",
              "    </tr>\n",
              "    <tr>\n",
              "      <th>1</th>\n",
              "      <td>2024</td>\n",
              "      <td>SE</td>\n",
              "      <td>FT</td>\n",
              "      <td>AI Developer</td>\n",
              "      <td>252000</td>\n",
              "      <td>USD</td>\n",
              "      <td>252000</td>\n",
              "      <td>US</td>\n",
              "      <td>0</td>\n",
              "      <td>US</td>\n",
              "      <td>M</td>\n",
              "    </tr>\n",
              "    <tr>\n",
              "      <th>2</th>\n",
              "      <td>2024</td>\n",
              "      <td>SE</td>\n",
              "      <td>FT</td>\n",
              "      <td>AI Developer</td>\n",
              "      <td>168000</td>\n",
              "      <td>USD</td>\n",
              "      <td>168000</td>\n",
              "      <td>US</td>\n",
              "      <td>0</td>\n",
              "      <td>US</td>\n",
              "      <td>M</td>\n",
              "    </tr>\n",
              "    <tr>\n",
              "      <th>3</th>\n",
              "      <td>2024</td>\n",
              "      <td>MI</td>\n",
              "      <td>FT</td>\n",
              "      <td>Data Scientist</td>\n",
              "      <td>199500</td>\n",
              "      <td>USD</td>\n",
              "      <td>199500</td>\n",
              "      <td>US</td>\n",
              "      <td>100</td>\n",
              "      <td>US</td>\n",
              "      <td>M</td>\n",
              "    </tr>\n",
              "    <tr>\n",
              "      <th>4</th>\n",
              "      <td>2024</td>\n",
              "      <td>MI</td>\n",
              "      <td>FT</td>\n",
              "      <td>Data Scientist</td>\n",
              "      <td>86700</td>\n",
              "      <td>USD</td>\n",
              "      <td>86700</td>\n",
              "      <td>US</td>\n",
              "      <td>100</td>\n",
              "      <td>US</td>\n",
              "      <td>M</td>\n",
              "    </tr>\n",
              "  </tbody>\n",
              "</table>\n",
              "</div>\n",
              "    <div class=\"colab-df-buttons\">\n",
              "\n",
              "  <div class=\"colab-df-container\">\n",
              "    <button class=\"colab-df-convert\" onclick=\"convertToInteractive('df-32eb7842-49e0-44d8-ab94-57613a17dad0')\"\n",
              "            title=\"Convert this dataframe to an interactive table.\"\n",
              "            style=\"display:none;\">\n",
              "\n",
              "  <svg xmlns=\"http://www.w3.org/2000/svg\" height=\"24px\" viewBox=\"0 -960 960 960\">\n",
              "    <path d=\"M120-120v-720h720v720H120Zm60-500h600v-160H180v160Zm220 220h160v-160H400v160Zm0 220h160v-160H400v160ZM180-400h160v-160H180v160Zm440 0h160v-160H620v160ZM180-180h160v-160H180v160Zm440 0h160v-160H620v160Z\"/>\n",
              "  </svg>\n",
              "    </button>\n",
              "\n",
              "  <style>\n",
              "    .colab-df-container {\n",
              "      display:flex;\n",
              "      gap: 12px;\n",
              "    }\n",
              "\n",
              "    .colab-df-convert {\n",
              "      background-color: #E8F0FE;\n",
              "      border: none;\n",
              "      border-radius: 50%;\n",
              "      cursor: pointer;\n",
              "      display: none;\n",
              "      fill: #1967D2;\n",
              "      height: 32px;\n",
              "      padding: 0 0 0 0;\n",
              "      width: 32px;\n",
              "    }\n",
              "\n",
              "    .colab-df-convert:hover {\n",
              "      background-color: #E2EBFA;\n",
              "      box-shadow: 0px 1px 2px rgba(60, 64, 67, 0.3), 0px 1px 3px 1px rgba(60, 64, 67, 0.15);\n",
              "      fill: #174EA6;\n",
              "    }\n",
              "\n",
              "    .colab-df-buttons div {\n",
              "      margin-bottom: 4px;\n",
              "    }\n",
              "\n",
              "    [theme=dark] .colab-df-convert {\n",
              "      background-color: #3B4455;\n",
              "      fill: #D2E3FC;\n",
              "    }\n",
              "\n",
              "    [theme=dark] .colab-df-convert:hover {\n",
              "      background-color: #434B5C;\n",
              "      box-shadow: 0px 1px 3px 1px rgba(0, 0, 0, 0.15);\n",
              "      filter: drop-shadow(0px 1px 2px rgba(0, 0, 0, 0.3));\n",
              "      fill: #FFFFFF;\n",
              "    }\n",
              "  </style>\n",
              "\n",
              "    <script>\n",
              "      const buttonEl =\n",
              "        document.querySelector('#df-32eb7842-49e0-44d8-ab94-57613a17dad0 button.colab-df-convert');\n",
              "      buttonEl.style.display =\n",
              "        google.colab.kernel.accessAllowed ? 'block' : 'none';\n",
              "\n",
              "      async function convertToInteractive(key) {\n",
              "        const element = document.querySelector('#df-32eb7842-49e0-44d8-ab94-57613a17dad0');\n",
              "        const dataTable =\n",
              "          await google.colab.kernel.invokeFunction('convertToInteractive',\n",
              "                                                    [key], {});\n",
              "        if (!dataTable) return;\n",
              "\n",
              "        const docLinkHtml = 'Like what you see? Visit the ' +\n",
              "          '<a target=\"_blank\" href=https://colab.research.google.com/notebooks/data_table.ipynb>data table notebook</a>'\n",
              "          + ' to learn more about interactive tables.';\n",
              "        element.innerHTML = '';\n",
              "        dataTable['output_type'] = 'display_data';\n",
              "        await google.colab.output.renderOutput(dataTable, element);\n",
              "        const docLink = document.createElement('div');\n",
              "        docLink.innerHTML = docLinkHtml;\n",
              "        element.appendChild(docLink);\n",
              "      }\n",
              "    </script>\n",
              "  </div>\n",
              "\n",
              "\n",
              "    <div id=\"df-6330d6bf-f0e4-445f-b960-88e8a4be2f67\">\n",
              "      <button class=\"colab-df-quickchart\" onclick=\"quickchart('df-6330d6bf-f0e4-445f-b960-88e8a4be2f67')\"\n",
              "                title=\"Suggest charts\"\n",
              "                style=\"display:none;\">\n",
              "\n",
              "<svg xmlns=\"http://www.w3.org/2000/svg\" height=\"24px\"viewBox=\"0 0 24 24\"\n",
              "     width=\"24px\">\n",
              "    <g>\n",
              "        <path d=\"M19 3H5c-1.1 0-2 .9-2 2v14c0 1.1.9 2 2 2h14c1.1 0 2-.9 2-2V5c0-1.1-.9-2-2-2zM9 17H7v-7h2v7zm4 0h-2V7h2v10zm4 0h-2v-4h2v4z\"/>\n",
              "    </g>\n",
              "</svg>\n",
              "      </button>\n",
              "\n",
              "<style>\n",
              "  .colab-df-quickchart {\n",
              "      --bg-color: #E8F0FE;\n",
              "      --fill-color: #1967D2;\n",
              "      --hover-bg-color: #E2EBFA;\n",
              "      --hover-fill-color: #174EA6;\n",
              "      --disabled-fill-color: #AAA;\n",
              "      --disabled-bg-color: #DDD;\n",
              "  }\n",
              "\n",
              "  [theme=dark] .colab-df-quickchart {\n",
              "      --bg-color: #3B4455;\n",
              "      --fill-color: #D2E3FC;\n",
              "      --hover-bg-color: #434B5C;\n",
              "      --hover-fill-color: #FFFFFF;\n",
              "      --disabled-bg-color: #3B4455;\n",
              "      --disabled-fill-color: #666;\n",
              "  }\n",
              "\n",
              "  .colab-df-quickchart {\n",
              "    background-color: var(--bg-color);\n",
              "    border: none;\n",
              "    border-radius: 50%;\n",
              "    cursor: pointer;\n",
              "    display: none;\n",
              "    fill: var(--fill-color);\n",
              "    height: 32px;\n",
              "    padding: 0;\n",
              "    width: 32px;\n",
              "  }\n",
              "\n",
              "  .colab-df-quickchart:hover {\n",
              "    background-color: var(--hover-bg-color);\n",
              "    box-shadow: 0 1px 2px rgba(60, 64, 67, 0.3), 0 1px 3px 1px rgba(60, 64, 67, 0.15);\n",
              "    fill: var(--button-hover-fill-color);\n",
              "  }\n",
              "\n",
              "  .colab-df-quickchart-complete:disabled,\n",
              "  .colab-df-quickchart-complete:disabled:hover {\n",
              "    background-color: var(--disabled-bg-color);\n",
              "    fill: var(--disabled-fill-color);\n",
              "    box-shadow: none;\n",
              "  }\n",
              "\n",
              "  .colab-df-spinner {\n",
              "    border: 2px solid var(--fill-color);\n",
              "    border-color: transparent;\n",
              "    border-bottom-color: var(--fill-color);\n",
              "    animation:\n",
              "      spin 1s steps(1) infinite;\n",
              "  }\n",
              "\n",
              "  @keyframes spin {\n",
              "    0% {\n",
              "      border-color: transparent;\n",
              "      border-bottom-color: var(--fill-color);\n",
              "      border-left-color: var(--fill-color);\n",
              "    }\n",
              "    20% {\n",
              "      border-color: transparent;\n",
              "      border-left-color: var(--fill-color);\n",
              "      border-top-color: var(--fill-color);\n",
              "    }\n",
              "    30% {\n",
              "      border-color: transparent;\n",
              "      border-left-color: var(--fill-color);\n",
              "      border-top-color: var(--fill-color);\n",
              "      border-right-color: var(--fill-color);\n",
              "    }\n",
              "    40% {\n",
              "      border-color: transparent;\n",
              "      border-right-color: var(--fill-color);\n",
              "      border-top-color: var(--fill-color);\n",
              "    }\n",
              "    60% {\n",
              "      border-color: transparent;\n",
              "      border-right-color: var(--fill-color);\n",
              "    }\n",
              "    80% {\n",
              "      border-color: transparent;\n",
              "      border-right-color: var(--fill-color);\n",
              "      border-bottom-color: var(--fill-color);\n",
              "    }\n",
              "    90% {\n",
              "      border-color: transparent;\n",
              "      border-bottom-color: var(--fill-color);\n",
              "    }\n",
              "  }\n",
              "</style>\n",
              "\n",
              "      <script>\n",
              "        async function quickchart(key) {\n",
              "          const quickchartButtonEl =\n",
              "            document.querySelector('#' + key + ' button');\n",
              "          quickchartButtonEl.disabled = true;  // To prevent multiple clicks.\n",
              "          quickchartButtonEl.classList.add('colab-df-spinner');\n",
              "          try {\n",
              "            const charts = await google.colab.kernel.invokeFunction(\n",
              "                'suggestCharts', [key], {});\n",
              "          } catch (error) {\n",
              "            console.error('Error during call to suggestCharts:', error);\n",
              "          }\n",
              "          quickchartButtonEl.classList.remove('colab-df-spinner');\n",
              "          quickchartButtonEl.classList.add('colab-df-quickchart-complete');\n",
              "        }\n",
              "        (() => {\n",
              "          let quickchartButtonEl =\n",
              "            document.querySelector('#df-6330d6bf-f0e4-445f-b960-88e8a4be2f67 button');\n",
              "          quickchartButtonEl.style.display =\n",
              "            google.colab.kernel.accessAllowed ? 'block' : 'none';\n",
              "        })();\n",
              "      </script>\n",
              "    </div>\n",
              "\n",
              "    </div>\n",
              "  </div>\n"
            ],
            "application/vnd.google.colaboratory.intrinsic+json": {
              "type": "dataframe",
              "variable_name": "df",
              "summary": "{\n  \"name\": \"df\",\n  \"rows\": 18056,\n  \"fields\": [\n    {\n      \"column\": \"work_year\",\n      \"properties\": {\n        \"dtype\": \"number\",\n        \"std\": 0,\n        \"min\": 2020,\n        \"max\": 2024,\n        \"num_unique_values\": 5,\n        \"samples\": [\n          2022,\n          2021,\n          2023\n        ],\n        \"semantic_type\": \"\",\n        \"description\": \"\"\n      }\n    },\n    {\n      \"column\": \"experience_level\",\n      \"properties\": {\n        \"dtype\": \"category\",\n        \"num_unique_values\": 4,\n        \"samples\": [\n          \"SE\",\n          \"EX\",\n          \"MI\"\n        ],\n        \"semantic_type\": \"\",\n        \"description\": \"\"\n      }\n    },\n    {\n      \"column\": \"employment_type\",\n      \"properties\": {\n        \"dtype\": \"category\",\n        \"num_unique_values\": 4,\n        \"samples\": [\n          \"CT\",\n          \"FL\",\n          \"FT\"\n        ],\n        \"semantic_type\": \"\",\n        \"description\": \"\"\n      }\n    },\n    {\n      \"column\": \"job_title\",\n      \"properties\": {\n        \"dtype\": \"category\",\n        \"num_unique_values\": 143,\n        \"samples\": [\n          \"Machine Learning Specialist\",\n          \"Insight Analyst\",\n          \"Big Data Engineer\"\n        ],\n        \"semantic_type\": \"\",\n        \"description\": \"\"\n      }\n    },\n    {\n      \"column\": \"salary\",\n      \"properties\": {\n        \"dtype\": \"number\",\n        \"std\": 326562,\n        \"min\": 14000,\n        \"max\": 30400000,\n        \"num_unique_values\": 2761,\n        \"samples\": [\n          45790,\n          423000,\n          95325\n        ],\n        \"semantic_type\": \"\",\n        \"description\": \"\"\n      }\n    },\n    {\n      \"column\": \"salary_currency\",\n      \"properties\": {\n        \"dtype\": \"category\",\n        \"num_unique_values\": 24,\n        \"samples\": [\n          \"ILS\",\n          \"JPY\",\n          \"CAD\"\n        ],\n        \"semantic_type\": \"\",\n        \"description\": \"\"\n      }\n    },\n    {\n      \"column\": \"salary_in_usd\",\n      \"properties\": {\n        \"dtype\": \"number\",\n        \"std\": 68728,\n        \"min\": 15000,\n        \"max\": 800000,\n        \"num_unique_values\": 3149,\n        \"samples\": [\n          52008,\n          182054,\n          180400\n        ],\n        \"semantic_type\": \"\",\n        \"description\": \"\"\n      }\n    },\n    {\n      \"column\": \"employee_residence\",\n      \"properties\": {\n        \"dtype\": \"category\",\n        \"num_unique_values\": 88,\n        \"samples\": [\n          \"PR\",\n          \"CA\",\n          \"CH\"\n        ],\n        \"semantic_type\": \"\",\n        \"description\": \"\"\n      }\n    },\n    {\n      \"column\": \"remote_ratio\",\n      \"properties\": {\n        \"dtype\": \"number\",\n        \"std\": 45,\n        \"min\": 0,\n        \"max\": 100,\n        \"num_unique_values\": 3,\n        \"samples\": [\n          100,\n          0,\n          50\n        ],\n        \"semantic_type\": \"\",\n        \"description\": \"\"\n      }\n    },\n    {\n      \"column\": \"company_location\",\n      \"properties\": {\n        \"dtype\": \"category\",\n        \"num_unique_values\": 77,\n        \"samples\": [\n          \"DE\",\n          \"AS\",\n          \"IN\"\n        ],\n        \"semantic_type\": \"\",\n        \"description\": \"\"\n      }\n    },\n    {\n      \"column\": \"company_size\",\n      \"properties\": {\n        \"dtype\": \"category\",\n        \"num_unique_values\": 3,\n        \"samples\": [\n          \"S\",\n          \"M\",\n          \"L\"\n        ],\n        \"semantic_type\": \"\",\n        \"description\": \"\"\n      }\n    }\n  ]\n}"
            }
          },
          "metadata": {},
          "execution_count": 117
        }
      ]
    },
    {
      "cell_type": "code",
      "source": [
        "df.shape\n"
      ],
      "metadata": {
        "colab": {
          "base_uri": "https://localhost:8080/"
        },
        "id": "siLppVWKcpa4",
        "outputId": "03543f5d-eaf4-4fab-8bdb-7b1a9ace7cb7"
      },
      "execution_count": 118,
      "outputs": [
        {
          "output_type": "execute_result",
          "data": {
            "text/plain": [
              "(18056, 11)"
            ]
          },
          "metadata": {},
          "execution_count": 118
        }
      ]
    },
    {
      "cell_type": "code",
      "source": [
        "df.info()"
      ],
      "metadata": {
        "colab": {
          "base_uri": "https://localhost:8080/"
        },
        "id": "27YwVi8jcy_F",
        "outputId": "f0fa96c1-bfc5-41b8-9ee5-c78c78c87f8e"
      },
      "execution_count": 119,
      "outputs": [
        {
          "output_type": "stream",
          "name": "stdout",
          "text": [
            "<class 'pandas.core.frame.DataFrame'>\n",
            "RangeIndex: 18056 entries, 0 to 18055\n",
            "Data columns (total 11 columns):\n",
            " #   Column              Non-Null Count  Dtype \n",
            "---  ------              --------------  ----- \n",
            " 0   work_year           18056 non-null  int64 \n",
            " 1   experience_level    18056 non-null  object\n",
            " 2   employment_type     18056 non-null  object\n",
            " 3   job_title           18056 non-null  object\n",
            " 4   salary              18056 non-null  int64 \n",
            " 5   salary_currency     18056 non-null  object\n",
            " 6   salary_in_usd       18056 non-null  int64 \n",
            " 7   employee_residence  18056 non-null  object\n",
            " 8   remote_ratio        18056 non-null  int64 \n",
            " 9   company_location    18056 non-null  object\n",
            " 10  company_size        18056 non-null  object\n",
            "dtypes: int64(4), object(7)\n",
            "memory usage: 1.5+ MB\n"
          ]
        }
      ]
    },
    {
      "cell_type": "code",
      "source": [
        "df.describe()"
      ],
      "metadata": {
        "colab": {
          "base_uri": "https://localhost:8080/",
          "height": 300
        },
        "id": "a2INx_gJc4qO",
        "outputId": "8324b54b-3a0f-4996-d6b8-f0731096e83e"
      },
      "execution_count": 120,
      "outputs": [
        {
          "output_type": "execute_result",
          "data": {
            "text/plain": [
              "          work_year        salary  salary_in_usd  remote_ratio\n",
              "count  18056.000000  1.805600e+04   18056.000000  18056.000000\n",
              "mean    2023.292036  1.638751e+05  150856.152913     30.884471\n",
              "std        0.715810  3.265629e+05   68728.941915     45.828340\n",
              "min     2020.000000  1.400000e+04   15000.000000      0.000000\n",
              "25%     2023.000000  1.040000e+05  103500.000000      0.000000\n",
              "50%     2023.000000  1.430000e+05  142200.000000      0.000000\n",
              "75%     2024.000000  1.900000e+05  188500.000000    100.000000\n",
              "max     2024.000000  3.040000e+07  800000.000000    100.000000"
            ],
            "text/html": [
              "\n",
              "  <div id=\"df-3af66803-6f37-4b45-9ef7-704846a41b56\" class=\"colab-df-container\">\n",
              "    <div>\n",
              "<style scoped>\n",
              "    .dataframe tbody tr th:only-of-type {\n",
              "        vertical-align: middle;\n",
              "    }\n",
              "\n",
              "    .dataframe tbody tr th {\n",
              "        vertical-align: top;\n",
              "    }\n",
              "\n",
              "    .dataframe thead th {\n",
              "        text-align: right;\n",
              "    }\n",
              "</style>\n",
              "<table border=\"1\" class=\"dataframe\">\n",
              "  <thead>\n",
              "    <tr style=\"text-align: right;\">\n",
              "      <th></th>\n",
              "      <th>work_year</th>\n",
              "      <th>salary</th>\n",
              "      <th>salary_in_usd</th>\n",
              "      <th>remote_ratio</th>\n",
              "    </tr>\n",
              "  </thead>\n",
              "  <tbody>\n",
              "    <tr>\n",
              "      <th>count</th>\n",
              "      <td>18056.000000</td>\n",
              "      <td>1.805600e+04</td>\n",
              "      <td>18056.000000</td>\n",
              "      <td>18056.000000</td>\n",
              "    </tr>\n",
              "    <tr>\n",
              "      <th>mean</th>\n",
              "      <td>2023.292036</td>\n",
              "      <td>1.638751e+05</td>\n",
              "      <td>150856.152913</td>\n",
              "      <td>30.884471</td>\n",
              "    </tr>\n",
              "    <tr>\n",
              "      <th>std</th>\n",
              "      <td>0.715810</td>\n",
              "      <td>3.265629e+05</td>\n",
              "      <td>68728.941915</td>\n",
              "      <td>45.828340</td>\n",
              "    </tr>\n",
              "    <tr>\n",
              "      <th>min</th>\n",
              "      <td>2020.000000</td>\n",
              "      <td>1.400000e+04</td>\n",
              "      <td>15000.000000</td>\n",
              "      <td>0.000000</td>\n",
              "    </tr>\n",
              "    <tr>\n",
              "      <th>25%</th>\n",
              "      <td>2023.000000</td>\n",
              "      <td>1.040000e+05</td>\n",
              "      <td>103500.000000</td>\n",
              "      <td>0.000000</td>\n",
              "    </tr>\n",
              "    <tr>\n",
              "      <th>50%</th>\n",
              "      <td>2023.000000</td>\n",
              "      <td>1.430000e+05</td>\n",
              "      <td>142200.000000</td>\n",
              "      <td>0.000000</td>\n",
              "    </tr>\n",
              "    <tr>\n",
              "      <th>75%</th>\n",
              "      <td>2024.000000</td>\n",
              "      <td>1.900000e+05</td>\n",
              "      <td>188500.000000</td>\n",
              "      <td>100.000000</td>\n",
              "    </tr>\n",
              "    <tr>\n",
              "      <th>max</th>\n",
              "      <td>2024.000000</td>\n",
              "      <td>3.040000e+07</td>\n",
              "      <td>800000.000000</td>\n",
              "      <td>100.000000</td>\n",
              "    </tr>\n",
              "  </tbody>\n",
              "</table>\n",
              "</div>\n",
              "    <div class=\"colab-df-buttons\">\n",
              "\n",
              "  <div class=\"colab-df-container\">\n",
              "    <button class=\"colab-df-convert\" onclick=\"convertToInteractive('df-3af66803-6f37-4b45-9ef7-704846a41b56')\"\n",
              "            title=\"Convert this dataframe to an interactive table.\"\n",
              "            style=\"display:none;\">\n",
              "\n",
              "  <svg xmlns=\"http://www.w3.org/2000/svg\" height=\"24px\" viewBox=\"0 -960 960 960\">\n",
              "    <path d=\"M120-120v-720h720v720H120Zm60-500h600v-160H180v160Zm220 220h160v-160H400v160Zm0 220h160v-160H400v160ZM180-400h160v-160H180v160Zm440 0h160v-160H620v160ZM180-180h160v-160H180v160Zm440 0h160v-160H620v160Z\"/>\n",
              "  </svg>\n",
              "    </button>\n",
              "\n",
              "  <style>\n",
              "    .colab-df-container {\n",
              "      display:flex;\n",
              "      gap: 12px;\n",
              "    }\n",
              "\n",
              "    .colab-df-convert {\n",
              "      background-color: #E8F0FE;\n",
              "      border: none;\n",
              "      border-radius: 50%;\n",
              "      cursor: pointer;\n",
              "      display: none;\n",
              "      fill: #1967D2;\n",
              "      height: 32px;\n",
              "      padding: 0 0 0 0;\n",
              "      width: 32px;\n",
              "    }\n",
              "\n",
              "    .colab-df-convert:hover {\n",
              "      background-color: #E2EBFA;\n",
              "      box-shadow: 0px 1px 2px rgba(60, 64, 67, 0.3), 0px 1px 3px 1px rgba(60, 64, 67, 0.15);\n",
              "      fill: #174EA6;\n",
              "    }\n",
              "\n",
              "    .colab-df-buttons div {\n",
              "      margin-bottom: 4px;\n",
              "    }\n",
              "\n",
              "    [theme=dark] .colab-df-convert {\n",
              "      background-color: #3B4455;\n",
              "      fill: #D2E3FC;\n",
              "    }\n",
              "\n",
              "    [theme=dark] .colab-df-convert:hover {\n",
              "      background-color: #434B5C;\n",
              "      box-shadow: 0px 1px 3px 1px rgba(0, 0, 0, 0.15);\n",
              "      filter: drop-shadow(0px 1px 2px rgba(0, 0, 0, 0.3));\n",
              "      fill: #FFFFFF;\n",
              "    }\n",
              "  </style>\n",
              "\n",
              "    <script>\n",
              "      const buttonEl =\n",
              "        document.querySelector('#df-3af66803-6f37-4b45-9ef7-704846a41b56 button.colab-df-convert');\n",
              "      buttonEl.style.display =\n",
              "        google.colab.kernel.accessAllowed ? 'block' : 'none';\n",
              "\n",
              "      async function convertToInteractive(key) {\n",
              "        const element = document.querySelector('#df-3af66803-6f37-4b45-9ef7-704846a41b56');\n",
              "        const dataTable =\n",
              "          await google.colab.kernel.invokeFunction('convertToInteractive',\n",
              "                                                    [key], {});\n",
              "        if (!dataTable) return;\n",
              "\n",
              "        const docLinkHtml = 'Like what you see? Visit the ' +\n",
              "          '<a target=\"_blank\" href=https://colab.research.google.com/notebooks/data_table.ipynb>data table notebook</a>'\n",
              "          + ' to learn more about interactive tables.';\n",
              "        element.innerHTML = '';\n",
              "        dataTable['output_type'] = 'display_data';\n",
              "        await google.colab.output.renderOutput(dataTable, element);\n",
              "        const docLink = document.createElement('div');\n",
              "        docLink.innerHTML = docLinkHtml;\n",
              "        element.appendChild(docLink);\n",
              "      }\n",
              "    </script>\n",
              "  </div>\n",
              "\n",
              "\n",
              "    <div id=\"df-e355572a-7aaf-4f43-963e-38f3754d85af\">\n",
              "      <button class=\"colab-df-quickchart\" onclick=\"quickchart('df-e355572a-7aaf-4f43-963e-38f3754d85af')\"\n",
              "                title=\"Suggest charts\"\n",
              "                style=\"display:none;\">\n",
              "\n",
              "<svg xmlns=\"http://www.w3.org/2000/svg\" height=\"24px\"viewBox=\"0 0 24 24\"\n",
              "     width=\"24px\">\n",
              "    <g>\n",
              "        <path d=\"M19 3H5c-1.1 0-2 .9-2 2v14c0 1.1.9 2 2 2h14c1.1 0 2-.9 2-2V5c0-1.1-.9-2-2-2zM9 17H7v-7h2v7zm4 0h-2V7h2v10zm4 0h-2v-4h2v4z\"/>\n",
              "    </g>\n",
              "</svg>\n",
              "      </button>\n",
              "\n",
              "<style>\n",
              "  .colab-df-quickchart {\n",
              "      --bg-color: #E8F0FE;\n",
              "      --fill-color: #1967D2;\n",
              "      --hover-bg-color: #E2EBFA;\n",
              "      --hover-fill-color: #174EA6;\n",
              "      --disabled-fill-color: #AAA;\n",
              "      --disabled-bg-color: #DDD;\n",
              "  }\n",
              "\n",
              "  [theme=dark] .colab-df-quickchart {\n",
              "      --bg-color: #3B4455;\n",
              "      --fill-color: #D2E3FC;\n",
              "      --hover-bg-color: #434B5C;\n",
              "      --hover-fill-color: #FFFFFF;\n",
              "      --disabled-bg-color: #3B4455;\n",
              "      --disabled-fill-color: #666;\n",
              "  }\n",
              "\n",
              "  .colab-df-quickchart {\n",
              "    background-color: var(--bg-color);\n",
              "    border: none;\n",
              "    border-radius: 50%;\n",
              "    cursor: pointer;\n",
              "    display: none;\n",
              "    fill: var(--fill-color);\n",
              "    height: 32px;\n",
              "    padding: 0;\n",
              "    width: 32px;\n",
              "  }\n",
              "\n",
              "  .colab-df-quickchart:hover {\n",
              "    background-color: var(--hover-bg-color);\n",
              "    box-shadow: 0 1px 2px rgba(60, 64, 67, 0.3), 0 1px 3px 1px rgba(60, 64, 67, 0.15);\n",
              "    fill: var(--button-hover-fill-color);\n",
              "  }\n",
              "\n",
              "  .colab-df-quickchart-complete:disabled,\n",
              "  .colab-df-quickchart-complete:disabled:hover {\n",
              "    background-color: var(--disabled-bg-color);\n",
              "    fill: var(--disabled-fill-color);\n",
              "    box-shadow: none;\n",
              "  }\n",
              "\n",
              "  .colab-df-spinner {\n",
              "    border: 2px solid var(--fill-color);\n",
              "    border-color: transparent;\n",
              "    border-bottom-color: var(--fill-color);\n",
              "    animation:\n",
              "      spin 1s steps(1) infinite;\n",
              "  }\n",
              "\n",
              "  @keyframes spin {\n",
              "    0% {\n",
              "      border-color: transparent;\n",
              "      border-bottom-color: var(--fill-color);\n",
              "      border-left-color: var(--fill-color);\n",
              "    }\n",
              "    20% {\n",
              "      border-color: transparent;\n",
              "      border-left-color: var(--fill-color);\n",
              "      border-top-color: var(--fill-color);\n",
              "    }\n",
              "    30% {\n",
              "      border-color: transparent;\n",
              "      border-left-color: var(--fill-color);\n",
              "      border-top-color: var(--fill-color);\n",
              "      border-right-color: var(--fill-color);\n",
              "    }\n",
              "    40% {\n",
              "      border-color: transparent;\n",
              "      border-right-color: var(--fill-color);\n",
              "      border-top-color: var(--fill-color);\n",
              "    }\n",
              "    60% {\n",
              "      border-color: transparent;\n",
              "      border-right-color: var(--fill-color);\n",
              "    }\n",
              "    80% {\n",
              "      border-color: transparent;\n",
              "      border-right-color: var(--fill-color);\n",
              "      border-bottom-color: var(--fill-color);\n",
              "    }\n",
              "    90% {\n",
              "      border-color: transparent;\n",
              "      border-bottom-color: var(--fill-color);\n",
              "    }\n",
              "  }\n",
              "</style>\n",
              "\n",
              "      <script>\n",
              "        async function quickchart(key) {\n",
              "          const quickchartButtonEl =\n",
              "            document.querySelector('#' + key + ' button');\n",
              "          quickchartButtonEl.disabled = true;  // To prevent multiple clicks.\n",
              "          quickchartButtonEl.classList.add('colab-df-spinner');\n",
              "          try {\n",
              "            const charts = await google.colab.kernel.invokeFunction(\n",
              "                'suggestCharts', [key], {});\n",
              "          } catch (error) {\n",
              "            console.error('Error during call to suggestCharts:', error);\n",
              "          }\n",
              "          quickchartButtonEl.classList.remove('colab-df-spinner');\n",
              "          quickchartButtonEl.classList.add('colab-df-quickchart-complete');\n",
              "        }\n",
              "        (() => {\n",
              "          let quickchartButtonEl =\n",
              "            document.querySelector('#df-e355572a-7aaf-4f43-963e-38f3754d85af button');\n",
              "          quickchartButtonEl.style.display =\n",
              "            google.colab.kernel.accessAllowed ? 'block' : 'none';\n",
              "        })();\n",
              "      </script>\n",
              "    </div>\n",
              "\n",
              "    </div>\n",
              "  </div>\n"
            ],
            "application/vnd.google.colaboratory.intrinsic+json": {
              "type": "dataframe",
              "summary": "{\n  \"name\": \"df\",\n  \"rows\": 8,\n  \"fields\": [\n    {\n      \"column\": \"work_year\",\n      \"properties\": {\n        \"dtype\": \"number\",\n        \"std\": 5813.92040647109,\n        \"min\": 0.7158100941413837,\n        \"max\": 18056.0,\n        \"num_unique_values\": 6,\n        \"samples\": [\n          18056.0,\n          2023.2920358883473,\n          2024.0\n        ],\n        \"semantic_type\": \"\",\n        \"description\": \"\"\n      }\n    },\n    {\n      \"column\": \"salary\",\n      \"properties\": {\n        \"dtype\": \"number\",\n        \"std\": 10700027.718719674,\n        \"min\": 14000.0,\n        \"max\": 30400000.0,\n        \"num_unique_values\": 8,\n        \"samples\": [\n          163875.13912272928,\n          143000.0,\n          18056.0\n        ],\n        \"semantic_type\": \"\",\n        \"description\": \"\"\n      }\n    },\n    {\n      \"column\": \"salary_in_usd\",\n      \"properties\": {\n        \"dtype\": \"number\",\n        \"std\": 255834.92174942157,\n        \"min\": 15000.0,\n        \"max\": 800000.0,\n        \"num_unique_values\": 8,\n        \"samples\": [\n          150856.15291315905,\n          142200.0,\n          18056.0\n        ],\n        \"semantic_type\": \"\",\n        \"description\": \"\"\n      }\n    },\n    {\n      \"column\": \"remote_ratio\",\n      \"properties\": {\n        \"dtype\": \"number\",\n        \"std\": 6369.919770874158,\n        \"min\": 0.0,\n        \"max\": 18056.0,\n        \"num_unique_values\": 5,\n        \"samples\": [\n          30.88447053610988,\n          100.0,\n          45.82834032367809\n        ],\n        \"semantic_type\": \"\",\n        \"description\": \"\"\n      }\n    }\n  ]\n}"
            }
          },
          "metadata": {},
          "execution_count": 120
        }
      ]
    },
    {
      "cell_type": "code",
      "source": [
        "df.isnull().sum()"
      ],
      "metadata": {
        "colab": {
          "base_uri": "https://localhost:8080/",
          "height": 429
        },
        "id": "J5TCuqLic_J7",
        "outputId": "bbeb6765-893f-463e-c551-1b75fe2c4dc2"
      },
      "execution_count": 121,
      "outputs": [
        {
          "output_type": "execute_result",
          "data": {
            "text/plain": [
              "work_year             0\n",
              "experience_level      0\n",
              "employment_type       0\n",
              "job_title             0\n",
              "salary                0\n",
              "salary_currency       0\n",
              "salary_in_usd         0\n",
              "employee_residence    0\n",
              "remote_ratio          0\n",
              "company_location      0\n",
              "company_size          0\n",
              "dtype: int64"
            ],
            "text/html": [
              "<div>\n",
              "<style scoped>\n",
              "    .dataframe tbody tr th:only-of-type {\n",
              "        vertical-align: middle;\n",
              "    }\n",
              "\n",
              "    .dataframe tbody tr th {\n",
              "        vertical-align: top;\n",
              "    }\n",
              "\n",
              "    .dataframe thead th {\n",
              "        text-align: right;\n",
              "    }\n",
              "</style>\n",
              "<table border=\"1\" class=\"dataframe\">\n",
              "  <thead>\n",
              "    <tr style=\"text-align: right;\">\n",
              "      <th></th>\n",
              "      <th>0</th>\n",
              "    </tr>\n",
              "  </thead>\n",
              "  <tbody>\n",
              "    <tr>\n",
              "      <th>work_year</th>\n",
              "      <td>0</td>\n",
              "    </tr>\n",
              "    <tr>\n",
              "      <th>experience_level</th>\n",
              "      <td>0</td>\n",
              "    </tr>\n",
              "    <tr>\n",
              "      <th>employment_type</th>\n",
              "      <td>0</td>\n",
              "    </tr>\n",
              "    <tr>\n",
              "      <th>job_title</th>\n",
              "      <td>0</td>\n",
              "    </tr>\n",
              "    <tr>\n",
              "      <th>salary</th>\n",
              "      <td>0</td>\n",
              "    </tr>\n",
              "    <tr>\n",
              "      <th>salary_currency</th>\n",
              "      <td>0</td>\n",
              "    </tr>\n",
              "    <tr>\n",
              "      <th>salary_in_usd</th>\n",
              "      <td>0</td>\n",
              "    </tr>\n",
              "    <tr>\n",
              "      <th>employee_residence</th>\n",
              "      <td>0</td>\n",
              "    </tr>\n",
              "    <tr>\n",
              "      <th>remote_ratio</th>\n",
              "      <td>0</td>\n",
              "    </tr>\n",
              "    <tr>\n",
              "      <th>company_location</th>\n",
              "      <td>0</td>\n",
              "    </tr>\n",
              "    <tr>\n",
              "      <th>company_size</th>\n",
              "      <td>0</td>\n",
              "    </tr>\n",
              "  </tbody>\n",
              "</table>\n",
              "</div><br><label><b>dtype:</b> int64</label>"
            ]
          },
          "metadata": {},
          "execution_count": 121
        }
      ]
    },
    {
      "cell_type": "code",
      "source": [
        "df.skew(numeric_only=True)"
      ],
      "metadata": {
        "colab": {
          "base_uri": "https://localhost:8080/",
          "height": 209
        },
        "id": "XLFJqaZkdFD2",
        "outputId": "eb20977d-67c4-46c4-f063-54c609c87af0"
      },
      "execution_count": 122,
      "outputs": [
        {
          "output_type": "execute_result",
          "data": {
            "text/plain": [
              "work_year        -0.965017\n",
              "salary           53.501183\n",
              "salary_in_usd     1.442586\n",
              "remote_ratio      0.827467\n",
              "dtype: float64"
            ],
            "text/html": [
              "<div>\n",
              "<style scoped>\n",
              "    .dataframe tbody tr th:only-of-type {\n",
              "        vertical-align: middle;\n",
              "    }\n",
              "\n",
              "    .dataframe tbody tr th {\n",
              "        vertical-align: top;\n",
              "    }\n",
              "\n",
              "    .dataframe thead th {\n",
              "        text-align: right;\n",
              "    }\n",
              "</style>\n",
              "<table border=\"1\" class=\"dataframe\">\n",
              "  <thead>\n",
              "    <tr style=\"text-align: right;\">\n",
              "      <th></th>\n",
              "      <th>0</th>\n",
              "    </tr>\n",
              "  </thead>\n",
              "  <tbody>\n",
              "    <tr>\n",
              "      <th>work_year</th>\n",
              "      <td>-0.965017</td>\n",
              "    </tr>\n",
              "    <tr>\n",
              "      <th>salary</th>\n",
              "      <td>53.501183</td>\n",
              "    </tr>\n",
              "    <tr>\n",
              "      <th>salary_in_usd</th>\n",
              "      <td>1.442586</td>\n",
              "    </tr>\n",
              "    <tr>\n",
              "      <th>remote_ratio</th>\n",
              "      <td>0.827467</td>\n",
              "    </tr>\n",
              "  </tbody>\n",
              "</table>\n",
              "</div><br><label><b>dtype:</b> float64</label>"
            ]
          },
          "metadata": {},
          "execution_count": 122
        }
      ]
    },
    {
      "cell_type": "code",
      "source": [
        "df.kurt(numeric_only=True)"
      ],
      "metadata": {
        "colab": {
          "base_uri": "https://localhost:8080/",
          "height": 209
        },
        "id": "MlIJQOb9dgVj",
        "outputId": "50652215-3a27-4364-a01f-20116babc86f"
      },
      "execution_count": 123,
      "outputs": [
        {
          "output_type": "execute_result",
          "data": {
            "text/plain": [
              "work_year           1.516893\n",
              "salary           4301.926379\n",
              "salary_in_usd       7.188421\n",
              "remote_ratio       -1.296213\n",
              "dtype: float64"
            ],
            "text/html": [
              "<div>\n",
              "<style scoped>\n",
              "    .dataframe tbody tr th:only-of-type {\n",
              "        vertical-align: middle;\n",
              "    }\n",
              "\n",
              "    .dataframe tbody tr th {\n",
              "        vertical-align: top;\n",
              "    }\n",
              "\n",
              "    .dataframe thead th {\n",
              "        text-align: right;\n",
              "    }\n",
              "</style>\n",
              "<table border=\"1\" class=\"dataframe\">\n",
              "  <thead>\n",
              "    <tr style=\"text-align: right;\">\n",
              "      <th></th>\n",
              "      <th>0</th>\n",
              "    </tr>\n",
              "  </thead>\n",
              "  <tbody>\n",
              "    <tr>\n",
              "      <th>work_year</th>\n",
              "      <td>1.516893</td>\n",
              "    </tr>\n",
              "    <tr>\n",
              "      <th>salary</th>\n",
              "      <td>4301.926379</td>\n",
              "    </tr>\n",
              "    <tr>\n",
              "      <th>salary_in_usd</th>\n",
              "      <td>7.188421</td>\n",
              "    </tr>\n",
              "    <tr>\n",
              "      <th>remote_ratio</th>\n",
              "      <td>-1.296213</td>\n",
              "    </tr>\n",
              "  </tbody>\n",
              "</table>\n",
              "</div><br><label><b>dtype:</b> float64</label>"
            ]
          },
          "metadata": {},
          "execution_count": 123
        }
      ]
    },
    {
      "cell_type": "code",
      "source": [
        "df[['work_year','salary']].cov()"
      ],
      "metadata": {
        "colab": {
          "base_uri": "https://localhost:8080/",
          "height": 112
        },
        "id": "6_7rb5Ceduk9",
        "outputId": "977480eb-1dd0-46ca-a9ca-ed355625dab9"
      },
      "execution_count": 124,
      "outputs": [
        {
          "output_type": "execute_result",
          "data": {
            "text/plain": [
              "              work_year        salary\n",
              "work_year      0.512384 -1.608103e+04\n",
              "salary    -16081.030108  1.066433e+11"
            ],
            "text/html": [
              "\n",
              "  <div id=\"df-910e7af1-c89b-4684-bd4b-b81f49ba6ace\" class=\"colab-df-container\">\n",
              "    <div>\n",
              "<style scoped>\n",
              "    .dataframe tbody tr th:only-of-type {\n",
              "        vertical-align: middle;\n",
              "    }\n",
              "\n",
              "    .dataframe tbody tr th {\n",
              "        vertical-align: top;\n",
              "    }\n",
              "\n",
              "    .dataframe thead th {\n",
              "        text-align: right;\n",
              "    }\n",
              "</style>\n",
              "<table border=\"1\" class=\"dataframe\">\n",
              "  <thead>\n",
              "    <tr style=\"text-align: right;\">\n",
              "      <th></th>\n",
              "      <th>work_year</th>\n",
              "      <th>salary</th>\n",
              "    </tr>\n",
              "  </thead>\n",
              "  <tbody>\n",
              "    <tr>\n",
              "      <th>work_year</th>\n",
              "      <td>0.512384</td>\n",
              "      <td>-1.608103e+04</td>\n",
              "    </tr>\n",
              "    <tr>\n",
              "      <th>salary</th>\n",
              "      <td>-16081.030108</td>\n",
              "      <td>1.066433e+11</td>\n",
              "    </tr>\n",
              "  </tbody>\n",
              "</table>\n",
              "</div>\n",
              "    <div class=\"colab-df-buttons\">\n",
              "\n",
              "  <div class=\"colab-df-container\">\n",
              "    <button class=\"colab-df-convert\" onclick=\"convertToInteractive('df-910e7af1-c89b-4684-bd4b-b81f49ba6ace')\"\n",
              "            title=\"Convert this dataframe to an interactive table.\"\n",
              "            style=\"display:none;\">\n",
              "\n",
              "  <svg xmlns=\"http://www.w3.org/2000/svg\" height=\"24px\" viewBox=\"0 -960 960 960\">\n",
              "    <path d=\"M120-120v-720h720v720H120Zm60-500h600v-160H180v160Zm220 220h160v-160H400v160Zm0 220h160v-160H400v160ZM180-400h160v-160H180v160Zm440 0h160v-160H620v160ZM180-180h160v-160H180v160Zm440 0h160v-160H620v160Z\"/>\n",
              "  </svg>\n",
              "    </button>\n",
              "\n",
              "  <style>\n",
              "    .colab-df-container {\n",
              "      display:flex;\n",
              "      gap: 12px;\n",
              "    }\n",
              "\n",
              "    .colab-df-convert {\n",
              "      background-color: #E8F0FE;\n",
              "      border: none;\n",
              "      border-radius: 50%;\n",
              "      cursor: pointer;\n",
              "      display: none;\n",
              "      fill: #1967D2;\n",
              "      height: 32px;\n",
              "      padding: 0 0 0 0;\n",
              "      width: 32px;\n",
              "    }\n",
              "\n",
              "    .colab-df-convert:hover {\n",
              "      background-color: #E2EBFA;\n",
              "      box-shadow: 0px 1px 2px rgba(60, 64, 67, 0.3), 0px 1px 3px 1px rgba(60, 64, 67, 0.15);\n",
              "      fill: #174EA6;\n",
              "    }\n",
              "\n",
              "    .colab-df-buttons div {\n",
              "      margin-bottom: 4px;\n",
              "    }\n",
              "\n",
              "    [theme=dark] .colab-df-convert {\n",
              "      background-color: #3B4455;\n",
              "      fill: #D2E3FC;\n",
              "    }\n",
              "\n",
              "    [theme=dark] .colab-df-convert:hover {\n",
              "      background-color: #434B5C;\n",
              "      box-shadow: 0px 1px 3px 1px rgba(0, 0, 0, 0.15);\n",
              "      filter: drop-shadow(0px 1px 2px rgba(0, 0, 0, 0.3));\n",
              "      fill: #FFFFFF;\n",
              "    }\n",
              "  </style>\n",
              "\n",
              "    <script>\n",
              "      const buttonEl =\n",
              "        document.querySelector('#df-910e7af1-c89b-4684-bd4b-b81f49ba6ace button.colab-df-convert');\n",
              "      buttonEl.style.display =\n",
              "        google.colab.kernel.accessAllowed ? 'block' : 'none';\n",
              "\n",
              "      async function convertToInteractive(key) {\n",
              "        const element = document.querySelector('#df-910e7af1-c89b-4684-bd4b-b81f49ba6ace');\n",
              "        const dataTable =\n",
              "          await google.colab.kernel.invokeFunction('convertToInteractive',\n",
              "                                                    [key], {});\n",
              "        if (!dataTable) return;\n",
              "\n",
              "        const docLinkHtml = 'Like what you see? Visit the ' +\n",
              "          '<a target=\"_blank\" href=https://colab.research.google.com/notebooks/data_table.ipynb>data table notebook</a>'\n",
              "          + ' to learn more about interactive tables.';\n",
              "        element.innerHTML = '';\n",
              "        dataTable['output_type'] = 'display_data';\n",
              "        await google.colab.output.renderOutput(dataTable, element);\n",
              "        const docLink = document.createElement('div');\n",
              "        docLink.innerHTML = docLinkHtml;\n",
              "        element.appendChild(docLink);\n",
              "      }\n",
              "    </script>\n",
              "  </div>\n",
              "\n",
              "\n",
              "    <div id=\"df-6af1b127-4151-4e02-ad59-e25cfd0870c4\">\n",
              "      <button class=\"colab-df-quickchart\" onclick=\"quickchart('df-6af1b127-4151-4e02-ad59-e25cfd0870c4')\"\n",
              "                title=\"Suggest charts\"\n",
              "                style=\"display:none;\">\n",
              "\n",
              "<svg xmlns=\"http://www.w3.org/2000/svg\" height=\"24px\"viewBox=\"0 0 24 24\"\n",
              "     width=\"24px\">\n",
              "    <g>\n",
              "        <path d=\"M19 3H5c-1.1 0-2 .9-2 2v14c0 1.1.9 2 2 2h14c1.1 0 2-.9 2-2V5c0-1.1-.9-2-2-2zM9 17H7v-7h2v7zm4 0h-2V7h2v10zm4 0h-2v-4h2v4z\"/>\n",
              "    </g>\n",
              "</svg>\n",
              "      </button>\n",
              "\n",
              "<style>\n",
              "  .colab-df-quickchart {\n",
              "      --bg-color: #E8F0FE;\n",
              "      --fill-color: #1967D2;\n",
              "      --hover-bg-color: #E2EBFA;\n",
              "      --hover-fill-color: #174EA6;\n",
              "      --disabled-fill-color: #AAA;\n",
              "      --disabled-bg-color: #DDD;\n",
              "  }\n",
              "\n",
              "  [theme=dark] .colab-df-quickchart {\n",
              "      --bg-color: #3B4455;\n",
              "      --fill-color: #D2E3FC;\n",
              "      --hover-bg-color: #434B5C;\n",
              "      --hover-fill-color: #FFFFFF;\n",
              "      --disabled-bg-color: #3B4455;\n",
              "      --disabled-fill-color: #666;\n",
              "  }\n",
              "\n",
              "  .colab-df-quickchart {\n",
              "    background-color: var(--bg-color);\n",
              "    border: none;\n",
              "    border-radius: 50%;\n",
              "    cursor: pointer;\n",
              "    display: none;\n",
              "    fill: var(--fill-color);\n",
              "    height: 32px;\n",
              "    padding: 0;\n",
              "    width: 32px;\n",
              "  }\n",
              "\n",
              "  .colab-df-quickchart:hover {\n",
              "    background-color: var(--hover-bg-color);\n",
              "    box-shadow: 0 1px 2px rgba(60, 64, 67, 0.3), 0 1px 3px 1px rgba(60, 64, 67, 0.15);\n",
              "    fill: var(--button-hover-fill-color);\n",
              "  }\n",
              "\n",
              "  .colab-df-quickchart-complete:disabled,\n",
              "  .colab-df-quickchart-complete:disabled:hover {\n",
              "    background-color: var(--disabled-bg-color);\n",
              "    fill: var(--disabled-fill-color);\n",
              "    box-shadow: none;\n",
              "  }\n",
              "\n",
              "  .colab-df-spinner {\n",
              "    border: 2px solid var(--fill-color);\n",
              "    border-color: transparent;\n",
              "    border-bottom-color: var(--fill-color);\n",
              "    animation:\n",
              "      spin 1s steps(1) infinite;\n",
              "  }\n",
              "\n",
              "  @keyframes spin {\n",
              "    0% {\n",
              "      border-color: transparent;\n",
              "      border-bottom-color: var(--fill-color);\n",
              "      border-left-color: var(--fill-color);\n",
              "    }\n",
              "    20% {\n",
              "      border-color: transparent;\n",
              "      border-left-color: var(--fill-color);\n",
              "      border-top-color: var(--fill-color);\n",
              "    }\n",
              "    30% {\n",
              "      border-color: transparent;\n",
              "      border-left-color: var(--fill-color);\n",
              "      border-top-color: var(--fill-color);\n",
              "      border-right-color: var(--fill-color);\n",
              "    }\n",
              "    40% {\n",
              "      border-color: transparent;\n",
              "      border-right-color: var(--fill-color);\n",
              "      border-top-color: var(--fill-color);\n",
              "    }\n",
              "    60% {\n",
              "      border-color: transparent;\n",
              "      border-right-color: var(--fill-color);\n",
              "    }\n",
              "    80% {\n",
              "      border-color: transparent;\n",
              "      border-right-color: var(--fill-color);\n",
              "      border-bottom-color: var(--fill-color);\n",
              "    }\n",
              "    90% {\n",
              "      border-color: transparent;\n",
              "      border-bottom-color: var(--fill-color);\n",
              "    }\n",
              "  }\n",
              "</style>\n",
              "\n",
              "      <script>\n",
              "        async function quickchart(key) {\n",
              "          const quickchartButtonEl =\n",
              "            document.querySelector('#' + key + ' button');\n",
              "          quickchartButtonEl.disabled = true;  // To prevent multiple clicks.\n",
              "          quickchartButtonEl.classList.add('colab-df-spinner');\n",
              "          try {\n",
              "            const charts = await google.colab.kernel.invokeFunction(\n",
              "                'suggestCharts', [key], {});\n",
              "          } catch (error) {\n",
              "            console.error('Error during call to suggestCharts:', error);\n",
              "          }\n",
              "          quickchartButtonEl.classList.remove('colab-df-spinner');\n",
              "          quickchartButtonEl.classList.add('colab-df-quickchart-complete');\n",
              "        }\n",
              "        (() => {\n",
              "          let quickchartButtonEl =\n",
              "            document.querySelector('#df-6af1b127-4151-4e02-ad59-e25cfd0870c4 button');\n",
              "          quickchartButtonEl.style.display =\n",
              "            google.colab.kernel.accessAllowed ? 'block' : 'none';\n",
              "        })();\n",
              "      </script>\n",
              "    </div>\n",
              "\n",
              "    </div>\n",
              "  </div>\n"
            ],
            "application/vnd.google.colaboratory.intrinsic+json": {
              "type": "dataframe",
              "summary": "{\n  \"name\": \"df[['work_year','salary']]\",\n  \"rows\": 2,\n  \"fields\": [\n    {\n      \"column\": \"work_year\",\n      \"properties\": {\n        \"dtype\": \"number\",\n        \"std\": 11371.36774787037,\n        \"min\": -16081.0301076794,\n        \"max\": 0.5123840908747915,\n        \"num_unique_values\": 2,\n        \"samples\": [\n          -16081.0301076794,\n          0.5123840908747915\n        ],\n        \"semantic_type\": \"\",\n        \"description\": \"\"\n      }\n    },\n    {\n      \"column\": \"salary\",\n      \"properties\": {\n        \"dtype\": \"number\",\n        \"std\": 75408221224.56409,\n        \"min\": -16081.0301076794,\n        \"max\": 106643313089.17911,\n        \"num_unique_values\": 2,\n        \"samples\": [\n          106643313089.17911,\n          -16081.0301076794\n        ],\n        \"semantic_type\": \"\",\n        \"description\": \"\"\n      }\n    }\n  ]\n}"
            }
          },
          "metadata": {},
          "execution_count": 124
        }
      ]
    },
    {
      "cell_type": "code",
      "source": [
        "df.corr(numeric_only=True)"
      ],
      "metadata": {
        "colab": {
          "base_uri": "https://localhost:8080/",
          "height": 175
        },
        "id": "ZsjnQg7VfOIW",
        "outputId": "22b959cf-0355-4862-d0d6-94d6073f9e95"
      },
      "execution_count": 125,
      "outputs": [
        {
          "output_type": "execute_result",
          "data": {
            "text/plain": [
              "               work_year    salary  salary_in_usd  remote_ratio\n",
              "work_year       1.000000 -0.068794       0.087841     -0.208437\n",
              "salary         -0.068794  1.000000       0.148496      0.018931\n",
              "salary_in_usd   0.087841  0.148496       1.000000     -0.064073\n",
              "remote_ratio   -0.208437  0.018931      -0.064073      1.000000"
            ],
            "text/html": [
              "\n",
              "  <div id=\"df-b1d5cbe4-7b62-4ff2-a61a-41667c5b64e6\" class=\"colab-df-container\">\n",
              "    <div>\n",
              "<style scoped>\n",
              "    .dataframe tbody tr th:only-of-type {\n",
              "        vertical-align: middle;\n",
              "    }\n",
              "\n",
              "    .dataframe tbody tr th {\n",
              "        vertical-align: top;\n",
              "    }\n",
              "\n",
              "    .dataframe thead th {\n",
              "        text-align: right;\n",
              "    }\n",
              "</style>\n",
              "<table border=\"1\" class=\"dataframe\">\n",
              "  <thead>\n",
              "    <tr style=\"text-align: right;\">\n",
              "      <th></th>\n",
              "      <th>work_year</th>\n",
              "      <th>salary</th>\n",
              "      <th>salary_in_usd</th>\n",
              "      <th>remote_ratio</th>\n",
              "    </tr>\n",
              "  </thead>\n",
              "  <tbody>\n",
              "    <tr>\n",
              "      <th>work_year</th>\n",
              "      <td>1.000000</td>\n",
              "      <td>-0.068794</td>\n",
              "      <td>0.087841</td>\n",
              "      <td>-0.208437</td>\n",
              "    </tr>\n",
              "    <tr>\n",
              "      <th>salary</th>\n",
              "      <td>-0.068794</td>\n",
              "      <td>1.000000</td>\n",
              "      <td>0.148496</td>\n",
              "      <td>0.018931</td>\n",
              "    </tr>\n",
              "    <tr>\n",
              "      <th>salary_in_usd</th>\n",
              "      <td>0.087841</td>\n",
              "      <td>0.148496</td>\n",
              "      <td>1.000000</td>\n",
              "      <td>-0.064073</td>\n",
              "    </tr>\n",
              "    <tr>\n",
              "      <th>remote_ratio</th>\n",
              "      <td>-0.208437</td>\n",
              "      <td>0.018931</td>\n",
              "      <td>-0.064073</td>\n",
              "      <td>1.000000</td>\n",
              "    </tr>\n",
              "  </tbody>\n",
              "</table>\n",
              "</div>\n",
              "    <div class=\"colab-df-buttons\">\n",
              "\n",
              "  <div class=\"colab-df-container\">\n",
              "    <button class=\"colab-df-convert\" onclick=\"convertToInteractive('df-b1d5cbe4-7b62-4ff2-a61a-41667c5b64e6')\"\n",
              "            title=\"Convert this dataframe to an interactive table.\"\n",
              "            style=\"display:none;\">\n",
              "\n",
              "  <svg xmlns=\"http://www.w3.org/2000/svg\" height=\"24px\" viewBox=\"0 -960 960 960\">\n",
              "    <path d=\"M120-120v-720h720v720H120Zm60-500h600v-160H180v160Zm220 220h160v-160H400v160Zm0 220h160v-160H400v160ZM180-400h160v-160H180v160Zm440 0h160v-160H620v160ZM180-180h160v-160H180v160Zm440 0h160v-160H620v160Z\"/>\n",
              "  </svg>\n",
              "    </button>\n",
              "\n",
              "  <style>\n",
              "    .colab-df-container {\n",
              "      display:flex;\n",
              "      gap: 12px;\n",
              "    }\n",
              "\n",
              "    .colab-df-convert {\n",
              "      background-color: #E8F0FE;\n",
              "      border: none;\n",
              "      border-radius: 50%;\n",
              "      cursor: pointer;\n",
              "      display: none;\n",
              "      fill: #1967D2;\n",
              "      height: 32px;\n",
              "      padding: 0 0 0 0;\n",
              "      width: 32px;\n",
              "    }\n",
              "\n",
              "    .colab-df-convert:hover {\n",
              "      background-color: #E2EBFA;\n",
              "      box-shadow: 0px 1px 2px rgba(60, 64, 67, 0.3), 0px 1px 3px 1px rgba(60, 64, 67, 0.15);\n",
              "      fill: #174EA6;\n",
              "    }\n",
              "\n",
              "    .colab-df-buttons div {\n",
              "      margin-bottom: 4px;\n",
              "    }\n",
              "\n",
              "    [theme=dark] .colab-df-convert {\n",
              "      background-color: #3B4455;\n",
              "      fill: #D2E3FC;\n",
              "    }\n",
              "\n",
              "    [theme=dark] .colab-df-convert:hover {\n",
              "      background-color: #434B5C;\n",
              "      box-shadow: 0px 1px 3px 1px rgba(0, 0, 0, 0.15);\n",
              "      filter: drop-shadow(0px 1px 2px rgba(0, 0, 0, 0.3));\n",
              "      fill: #FFFFFF;\n",
              "    }\n",
              "  </style>\n",
              "\n",
              "    <script>\n",
              "      const buttonEl =\n",
              "        document.querySelector('#df-b1d5cbe4-7b62-4ff2-a61a-41667c5b64e6 button.colab-df-convert');\n",
              "      buttonEl.style.display =\n",
              "        google.colab.kernel.accessAllowed ? 'block' : 'none';\n",
              "\n",
              "      async function convertToInteractive(key) {\n",
              "        const element = document.querySelector('#df-b1d5cbe4-7b62-4ff2-a61a-41667c5b64e6');\n",
              "        const dataTable =\n",
              "          await google.colab.kernel.invokeFunction('convertToInteractive',\n",
              "                                                    [key], {});\n",
              "        if (!dataTable) return;\n",
              "\n",
              "        const docLinkHtml = 'Like what you see? Visit the ' +\n",
              "          '<a target=\"_blank\" href=https://colab.research.google.com/notebooks/data_table.ipynb>data table notebook</a>'\n",
              "          + ' to learn more about interactive tables.';\n",
              "        element.innerHTML = '';\n",
              "        dataTable['output_type'] = 'display_data';\n",
              "        await google.colab.output.renderOutput(dataTable, element);\n",
              "        const docLink = document.createElement('div');\n",
              "        docLink.innerHTML = docLinkHtml;\n",
              "        element.appendChild(docLink);\n",
              "      }\n",
              "    </script>\n",
              "  </div>\n",
              "\n",
              "\n",
              "    <div id=\"df-4283efcd-d679-4075-8853-b457dc99b7dc\">\n",
              "      <button class=\"colab-df-quickchart\" onclick=\"quickchart('df-4283efcd-d679-4075-8853-b457dc99b7dc')\"\n",
              "                title=\"Suggest charts\"\n",
              "                style=\"display:none;\">\n",
              "\n",
              "<svg xmlns=\"http://www.w3.org/2000/svg\" height=\"24px\"viewBox=\"0 0 24 24\"\n",
              "     width=\"24px\">\n",
              "    <g>\n",
              "        <path d=\"M19 3H5c-1.1 0-2 .9-2 2v14c0 1.1.9 2 2 2h14c1.1 0 2-.9 2-2V5c0-1.1-.9-2-2-2zM9 17H7v-7h2v7zm4 0h-2V7h2v10zm4 0h-2v-4h2v4z\"/>\n",
              "    </g>\n",
              "</svg>\n",
              "      </button>\n",
              "\n",
              "<style>\n",
              "  .colab-df-quickchart {\n",
              "      --bg-color: #E8F0FE;\n",
              "      --fill-color: #1967D2;\n",
              "      --hover-bg-color: #E2EBFA;\n",
              "      --hover-fill-color: #174EA6;\n",
              "      --disabled-fill-color: #AAA;\n",
              "      --disabled-bg-color: #DDD;\n",
              "  }\n",
              "\n",
              "  [theme=dark] .colab-df-quickchart {\n",
              "      --bg-color: #3B4455;\n",
              "      --fill-color: #D2E3FC;\n",
              "      --hover-bg-color: #434B5C;\n",
              "      --hover-fill-color: #FFFFFF;\n",
              "      --disabled-bg-color: #3B4455;\n",
              "      --disabled-fill-color: #666;\n",
              "  }\n",
              "\n",
              "  .colab-df-quickchart {\n",
              "    background-color: var(--bg-color);\n",
              "    border: none;\n",
              "    border-radius: 50%;\n",
              "    cursor: pointer;\n",
              "    display: none;\n",
              "    fill: var(--fill-color);\n",
              "    height: 32px;\n",
              "    padding: 0;\n",
              "    width: 32px;\n",
              "  }\n",
              "\n",
              "  .colab-df-quickchart:hover {\n",
              "    background-color: var(--hover-bg-color);\n",
              "    box-shadow: 0 1px 2px rgba(60, 64, 67, 0.3), 0 1px 3px 1px rgba(60, 64, 67, 0.15);\n",
              "    fill: var(--button-hover-fill-color);\n",
              "  }\n",
              "\n",
              "  .colab-df-quickchart-complete:disabled,\n",
              "  .colab-df-quickchart-complete:disabled:hover {\n",
              "    background-color: var(--disabled-bg-color);\n",
              "    fill: var(--disabled-fill-color);\n",
              "    box-shadow: none;\n",
              "  }\n",
              "\n",
              "  .colab-df-spinner {\n",
              "    border: 2px solid var(--fill-color);\n",
              "    border-color: transparent;\n",
              "    border-bottom-color: var(--fill-color);\n",
              "    animation:\n",
              "      spin 1s steps(1) infinite;\n",
              "  }\n",
              "\n",
              "  @keyframes spin {\n",
              "    0% {\n",
              "      border-color: transparent;\n",
              "      border-bottom-color: var(--fill-color);\n",
              "      border-left-color: var(--fill-color);\n",
              "    }\n",
              "    20% {\n",
              "      border-color: transparent;\n",
              "      border-left-color: var(--fill-color);\n",
              "      border-top-color: var(--fill-color);\n",
              "    }\n",
              "    30% {\n",
              "      border-color: transparent;\n",
              "      border-left-color: var(--fill-color);\n",
              "      border-top-color: var(--fill-color);\n",
              "      border-right-color: var(--fill-color);\n",
              "    }\n",
              "    40% {\n",
              "      border-color: transparent;\n",
              "      border-right-color: var(--fill-color);\n",
              "      border-top-color: var(--fill-color);\n",
              "    }\n",
              "    60% {\n",
              "      border-color: transparent;\n",
              "      border-right-color: var(--fill-color);\n",
              "    }\n",
              "    80% {\n",
              "      border-color: transparent;\n",
              "      border-right-color: var(--fill-color);\n",
              "      border-bottom-color: var(--fill-color);\n",
              "    }\n",
              "    90% {\n",
              "      border-color: transparent;\n",
              "      border-bottom-color: var(--fill-color);\n",
              "    }\n",
              "  }\n",
              "</style>\n",
              "\n",
              "      <script>\n",
              "        async function quickchart(key) {\n",
              "          const quickchartButtonEl =\n",
              "            document.querySelector('#' + key + ' button');\n",
              "          quickchartButtonEl.disabled = true;  // To prevent multiple clicks.\n",
              "          quickchartButtonEl.classList.add('colab-df-spinner');\n",
              "          try {\n",
              "            const charts = await google.colab.kernel.invokeFunction(\n",
              "                'suggestCharts', [key], {});\n",
              "          } catch (error) {\n",
              "            console.error('Error during call to suggestCharts:', error);\n",
              "          }\n",
              "          quickchartButtonEl.classList.remove('colab-df-spinner');\n",
              "          quickchartButtonEl.classList.add('colab-df-quickchart-complete');\n",
              "        }\n",
              "        (() => {\n",
              "          let quickchartButtonEl =\n",
              "            document.querySelector('#df-4283efcd-d679-4075-8853-b457dc99b7dc button');\n",
              "          quickchartButtonEl.style.display =\n",
              "            google.colab.kernel.accessAllowed ? 'block' : 'none';\n",
              "        })();\n",
              "      </script>\n",
              "    </div>\n",
              "\n",
              "    </div>\n",
              "  </div>\n"
            ],
            "application/vnd.google.colaboratory.intrinsic+json": {
              "type": "dataframe",
              "summary": "{\n  \"name\": \"df\",\n  \"rows\": 4,\n  \"fields\": [\n    {\n      \"column\": \"work_year\",\n      \"properties\": {\n        \"dtype\": \"number\",\n        \"std\": 0.545167418434555,\n        \"min\": -0.2084371219572512,\n        \"max\": 1.0,\n        \"num_unique_values\": 4,\n        \"samples\": [\n          -0.06879378934918454,\n          -0.2084371219572512,\n          1.0\n        ],\n        \"semantic_type\": \"\",\n        \"description\": \"\"\n      }\n    },\n    {\n      \"column\": \"salary\",\n      \"properties\": {\n        \"dtype\": \"number\",\n        \"std\": 0.4917294276070496,\n        \"min\": -0.06879378934918454,\n        \"max\": 1.0,\n        \"num_unique_values\": 4,\n        \"samples\": [\n          1.0,\n          0.018930578350640444,\n          -0.06879378934918454\n        ],\n        \"semantic_type\": \"\",\n        \"description\": \"\"\n      }\n    },\n    {\n      \"column\": \"salary_in_usd\",\n      \"properties\": {\n        \"dtype\": \"number\",\n        \"std\": 0.47969490391015124,\n        \"min\": -0.0640727047042266,\n        \"max\": 1.0,\n        \"num_unique_values\": 4,\n        \"samples\": [\n          0.14849609144643672,\n          -0.0640727047042266,\n          0.08784073523195804\n        ],\n        \"semantic_type\": \"\",\n        \"description\": \"\"\n      }\n    },\n    {\n      \"column\": \"remote_ratio\",\n      \"properties\": {\n        \"dtype\": \"number\",\n        \"std\": 0.5503404181221453,\n        \"min\": -0.2084371219572512,\n        \"max\": 1.0,\n        \"num_unique_values\": 4,\n        \"samples\": [\n          0.018930578350640444,\n          1.0,\n          -0.2084371219572512\n        ],\n        \"semantic_type\": \"\",\n        \"description\": \"\"\n      }\n    }\n  ]\n}"
            }
          },
          "metadata": {},
          "execution_count": 125
        }
      ]
    },
    {
      "cell_type": "code",
      "source": [
        "sns.heatmap(df.corr(numeric_only=True),annot=True)\n",
        "plt.show()"
      ],
      "metadata": {
        "colab": {
          "base_uri": "https://localhost:8080/",
          "height": 435
        },
        "id": "oCbo_Qn1fe4s",
        "outputId": "81cfaeb2-6147-4636-f912-33a99b26d981"
      },
      "execution_count": 126,
      "outputs": [
        {
          "output_type": "display_data",
          "data": {
            "text/plain": [
              "<Figure size 640x480 with 2 Axes>"
            ],
            "image/png": "[encoded data removed]"
          },
          "metadata": {}
        }
      ]
    },
    {
      "cell_type": "code",
      "source": [
        "sns.pairplot(df)\n",
        "plt.show()"
      ],
      "metadata": {
        "colab": {
          "base_uri": "https://localhost:8080/",
          "height": 1000
        },
        "id": "vvR1lUuTfqgR",
        "outputId": "79f63a54-6dd3-4d28-a9f5-f1a6c95b6c8d"
      },
      "execution_count": 127,
      "outputs": [
        {
          "output_type": "display_data",
          "data": {
            "text/plain": [
              "<Figure size 1000x1000 with 20 Axes>"
            ],
            "image/png": "[encoded data removed]"
          },
          "metadata": {}
        }
      ]
    },
    {
      "cell_type": "code",
      "source": [
        "plt.plot(df['work_year'], df['salary_in_usd'], linestyle = '--', linewidth='7.7',color='#FF1493)\n",
        "plt.xlabel('Work Year')\n",
        "plt.ylabel('Salary in USD')\n",
        "plt.title('Salary in USD over Work Year')\n",
        "plt.show()"
      ],
      "metadata": {
        "colab": {
          "base_uri": "https://localhost:8080/",
          "height": 108
        },
        "id": "Ra15_0mMfyvL",
        "outputId": "9574f197-44e4-4d3b-926b-e147361691b5"
      },
      "execution_count": 128,
      "outputs": [
        {
          "output_type": "error",
          "ename": "SyntaxError",
          "evalue": "unterminated string literal (detected at line 1) (ipython-input-275056812.py, line 1)",
          "traceback": [
            "\u001b[0;36m  File \u001b[0;32m\"/tmp/ipython-input-275056812.py\"\u001b[0;36m, line \u001b[0;32m1\u001b[0m\n\u001b[0;31m    plt.plot(df['work_year'], df['salary_in_usd'], linestyle = '--', linewidth='7.7',color='#FF1493)\u001b[0m\n\u001b[0m                                                                                           ^\u001b[0m\n\u001b[0;31mSyntaxError\u001b[0m\u001b[0;31m:\u001b[0m unterminated string literal (detected at line 1)\n"
          ]
        }
      ]
    },
    {
      "cell_type": "code",
      "source": [
        "plt.plot(df['work_year'], df['salary_in_usd'], linestyle = '--', linewidth='5.7', color='#FF1493')\n",
        "plt.xlabel('Work Year')\n",
        "plt.ylabel('Salary in USD')\n",
        "plt.title('Salary in USD over Work Year')\n",
        "plt.show()"
      ],
      "metadata": {
        "id": "o-KDXBXMgv3Y"
      },
      "execution_count": null,
      "outputs": []
    },
    {
      "cell_type": "code",
      "source": [
        "plt.plot(df['work_year'], df['salary_in_usd'], linestyle = '--', linewidth='7.7',color='#FF1493')\n",
        "\n",
        "plt.show()"
      ],
      "metadata": {
        "id": "2F5RYhYyhbqD"
      },
      "execution_count": null,
      "outputs": []
    },
    {
      "cell_type": "code",
      "source": [
        "df.plot.line(linestyle = ':', linewidth='3')\n",
        "\n",
        "plt.title('work_year-VS-Salary')\n",
        "plt.show()"
      ],
      "metadata": {
        "id": "RKETa3-eiEYJ"
      },
      "execution_count": null,
      "outputs": []
    },
    {
      "cell_type": "code",
      "source": [
        "df.plot.line(x='work_year', y='salary', linestyle = ':', linewidth='3')\n",
        "\n",
        "plt.title('work_year-VS-Salary')\n",
        "plt.show()"
      ],
      "metadata": {
        "id": "cJ3YglqNidpR"
      },
      "execution_count": null,
      "outputs": []
    },
    {
      "cell_type": "code",
      "source": [],
      "metadata": {
        "id": "u4WGxa48j02N"
      },
      "execution_count": null,
      "outputs": []
    },
    {
      "cell_type": "code",
      "source": [
        "X=df.drop('salary_in_usd',axis=1)\n",
        "y=df['salary_in_usd']"
      ],
      "metadata": {
        "id": "fwmxSscCizEZ"
      },
      "execution_count": null,
      "outputs": []
    },
    {
      "cell_type": "code",
      "source": [
        "y=df['salary']"
      ],
      "metadata": {
        "id": "4YLox5UnkeIq"
      },
      "execution_count": null,
      "outputs": []
    },
    {
      "cell_type": "code",
      "source": [
        "X.head()"
      ],
      "metadata": {
        "id": "-qryVd9RkuGj"
      },
      "execution_count": null,
      "outputs": []
    },
    {
      "cell_type": "code",
      "source": [
        "y.head()"
      ],
      "metadata": {
        "id": "ZgLHEGCrk2KJ"
      },
      "execution_count": null,
      "outputs": []
    },
    {
      "cell_type": "code",
      "source": [
        "from sklearn.model_selection import train_test_split"
      ],
      "metadata": {
        "id": "AmyyXiKMk7Qa"
      },
      "execution_count": null,
      "outputs": []
    },
    {
      "cell_type": "code",
      "source": [
        "X_train,X_test,y_train,y_test=train_test_split(X,y,random_state=0,test_size=0.30)"
      ],
      "metadata": {
        "id": "QmrYF4QKk_5X"
      },
      "execution_count": null,
      "outputs": []
    },
    {
      "cell_type": "code",
      "source": [
        "print(X_train.shape)"
      ],
      "metadata": {
        "id": "3l6ExqsJlDcA"
      },
      "execution_count": null,
      "outputs": []
    },
    {
      "cell_type": "code",
      "source": [
        "X_test.shape"
      ],
      "metadata": {
        "id": "divraxMnlHNU"
      },
      "execution_count": null,
      "outputs": []
    },
    {
      "cell_type": "code",
      "source": [
        "from sklearn.linear_model import LinearRegression"
      ],
      "metadata": {
        "id": "F8QsUatVlLIs"
      },
      "execution_count": null,
      "outputs": []
    },
    {
      "cell_type": "code",
      "source": [
        "LR=LinearRegression()"
      ],
      "metadata": {
        "id": "sgPpK14LlPRo"
      },
      "execution_count": null,
      "outputs": []
    },
    {
      "cell_type": "code",
      "source": [
        "LR.fit(X_train,y_train)"
      ],
      "metadata": {
        "id": "LQmuQPsSlTYm"
      },
      "execution_count": null,
      "outputs": []
    },
    {
      "cell_type": "code",
      "metadata": {
        "id": "a54e70e0"
      },
      "source": [
        "X_train_encoded = pd.get_dummies(X_train)\n",
        "X_test_encoded = pd.get_dummies(X_test)\n",
        "\n",
        "# Align columns between the training and testing sets - this is important to ensure both datasets have the same columns after one-hot encoding\n",
        "X_train_encoded, X_test_encoded = X_train_encoded.align(X_test_encoded, join='outer', axis=1, fill_value=0)\n",
        "\n",
        "display(X_train_encoded.head())\n",
        "display(X_test_encoded.head())"
      ],
      "execution_count": null,
      "outputs": []
    },
    {
      "cell_type": "code",
      "source": [
        "LR.intercept_"
      ],
      "metadata": {
        "id": "TnLKJ2VEnS0N"
      },
      "execution_count": null,
      "outputs": []
    },
    {
      "cell_type": "code",
      "source": [
        "LR.coef_"
      ],
      "metadata": {
        "id": "2sDWXZU8nYdZ"
      },
      "execution_count": null,
      "outputs": []
    },
    {
      "cell_type": "code",
      "source": [
        "y_pred=LR.predict(X_test_encoded)"
      ],
      "metadata": {
        "id": "cmn6JZpRndhi"
      },
      "execution_count": null,
      "outputs": []
    },
    {
      "cell_type": "code",
      "source": [
        "y_pred"
      ],
      "metadata": {
        "id": "QRMM-yIBn6Pl"
      },
      "execution_count": null,
      "outputs": []
    },
    {
      "cell_type": "code",
      "source": [
        "\n",
        "\n",
        "y_test\n",
        "\n"
      ],
      "metadata": {
        "id": "WT2rxksAn-vm"
      },
      "execution_count": null,
      "outputs": []
    },
    {
      "cell_type": "code",
      "source": [
        "from sklearn import metrics"
      ],
      "metadata": {
        "id": "tDfe6qL9oE2E"
      },
      "execution_count": null,
      "outputs": []
    },
    {
      "cell_type": "code",
      "source": [
        "R2=metrics.r2_score(y_test,y_pred)"
      ],
      "metadata": {
        "id": "t-y2lN5BoKho"
      },
      "execution_count": null,
      "outputs": []
    },
    {
      "cell_type": "code",
      "source": [
        "R2"
      ],
      "metadata": {
        "id": "VtZ0E1--oOcY"
      },
      "execution_count": null,
      "outputs": []
    },
    {
      "cell_type": "code",
      "source": [
        "print(metrics.mean_absolute_error(y_test,y_pred))"
      ],
      "metadata": {
        "id": "4xTQmk03oSTy"
      },
      "execution_count": null,
      "outputs": []
    },
    {
      "cell_type": "code",
      "source": [
        "print(metrics.mean_squared_error(y_test,y_pred))"
      ],
      "metadata": {
        "id": "gGopXdrkoWwK"
      },
      "execution_count": null,
      "outputs": []
    },
    {
      "cell_type": "code",
      "source": [
        "print(np.sqrt(metrics.mean_squared_error(y_test,y_pred)))"
      ],
      "metadata": {
        "id": "AXmnDJdpocgT"
      },
      "execution_count": null,
      "outputs": []
    },
    {
      "cell_type": "code",
      "source": [
        "print(LR.predict([[5]]))"
      ],
      "metadata": {
        "id": "g37aUMa_ostG"
      },
      "execution_count": null,
      "outputs": []
    },
    {
      "cell_type": "code",
      "source": [
        "\n",
        "\n",
        "error= y_test-y_pred\n",
        "\n"
      ],
      "metadata": {
        "id": "G7eQXs6zpP_8"
      },
      "execution_count": null,
      "outputs": []
    },
    {
      "cell_type": "code",
      "source": [
        "\n",
        "\n",
        "error\n",
        "\n"
      ],
      "metadata": {
        "id": "iu0Xp_15pRvm"
      },
      "execution_count": null,
      "outputs": []
    },
    {
      "cell_type": "code",
      "source": [
        "import statsmodels.api as smt\n",
        "from statsmodels.graphics.tsaplots import plot_acf, plot_pacf"
      ],
      "metadata": {
        "id": "1iCaWC7ZpVLc"
      },
      "execution_count": null,
      "outputs": []
    },
    {
      "cell_type": "code",
      "source": [
        "acf=plot_acf(error)\n",
        "plt.show()"
      ],
      "metadata": {
        "id": "RGrSKE2Jpa5o"
      },
      "execution_count": null,
      "outputs": []
    },
    {
      "cell_type": "code",
      "source": [
        "sns.distplot(error)\n",
        "plt.xlabel('residual')\n",
        "plt.show()"
      ],
      "metadata": {
        "id": "O4mQFE7RpkPR"
      },
      "execution_count": null,
      "outputs": []
    },
    {
      "cell_type": "code",
      "source": [
        "sns.regplot(x='work_year', y='salary', data=df)\n",
        "plt.show()"
      ],
      "metadata": {
        "id": "9VJ0MFwopnLc"
      },
      "execution_count": null,
      "outputs": []
    },
    {
      "cell_type": "code",
      "source": [
        "sns.scatterplot(x=y_pred,y=error)\n",
        "plt.xlabel('predicted values')\n",
        "plt.ylabel('residuals')\n",
        "plt.xlim([0,150000])\n",
        "plt.ylim([-8000,8000])\n",
        "sns.lineplot([0,150000],[0,0],color='blue')\n",
        "plt.show()"
      ],
      "metadata": {
        "id": "busDF5Hmp07L"
      },
      "execution_count": null,
      "outputs": []
    },
    {
      "cell_type": "code",
      "source": [
        "sns.heatmap(df.corr(numeric_only=True),annot=True)\n",
        "plt.show()"
      ],
      "metadata": {
        "id": "dqU_RfX-p7f9"
      },
      "execution_count": null,
      "outputs": []
    },
    {
      "cell_type": "markdown",
      "metadata": {
        "id": "d13a221e"
      },
      "source": [
        "# Task\n",
        "Preprocess the categorical features in the training and test sets, fit a linear regression model, make predictions, and evaluate the model's performance."
      ]
    }
  ],
  "metadata": {
    "colab": {
      "name": "Welcome To Colab",
      "provenance": [],
      "include_colab_link": true
    },
    "kernelspec": {
      "display_name": "Python 3",
      "name": "python3"
    }
  },
  "nbformat": 4,
  "nbformat_minor": 0
}